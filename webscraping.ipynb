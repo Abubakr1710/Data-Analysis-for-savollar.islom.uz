{
 "cells": [
  {
   "attachments": {},
   "cell_type": "markdown",
   "metadata": {},
   "source": [
    "# <h1><center>WEB SCRAPING</center></h1>"
   ]
  },
  {
   "attachments": {},
   "cell_type": "markdown",
   "metadata": {},
   "source": [
    "<h3><center>website: <a href=\"https://savollar.islom.uz/\">savollar.islom.uz</a></center></h3>"
   ]
  },
  {
   "cell_type": "code",
   "execution_count": 11,
   "metadata": {},
   "outputs": [],
   "source": [
    "#importing libraries for scraping\n",
    "from bs4 import BeautifulSoup #library to parse HTML and XML documents\n",
    "import requests #library to handle requests\n",
    "import pandas as pd #library for working with dataframes\n",
    "import warnings #library to ignore warnings\n",
    "warnings.simplefilter(action='ignore', category=FutureWarning) #ignoring warnings\n",
    "import time #library to handle time\n"
   ]
  },
  {
   "cell_type": "code",
   "execution_count": 12,
   "metadata": {},
   "outputs": [
    {
     "data": {
      "text/plain": [
       "200"
      ]
     },
     "execution_count": 12,
     "metadata": {},
     "output_type": "execute_result"
    }
   ],
   "source": [
    "url = \"https://savollar.islom.uz/\" # url of the website\n",
    "response = requests.get(url) # get the response from the website\n",
    "response.status_code # check the status code of the response --> 200 means OK"
   ]
  },
  {
   "attachments": {},
   "cell_type": "markdown",
   "metadata": {},
   "source": [
    "<h3><center>Scraping the data</center></h3>"
   ]
  },
  {
   "attachments": {},
   "cell_type": "markdown",
   "metadata": {},
   "source": [
    "<h4>Dataset will contain four columns: section, views, date, link</h4>"
   ]
  },
  {
   "cell_type": "code",
   "execution_count": 13,
   "metadata": {},
   "outputs": [
    {
     "name": "stdout",
     "output_type": "stream",
     "text": [
      "Page 6600 is done\n",
      "Page 6700 is done\n",
      "Page 6800 is done\n",
      "Page 6900 is done\n",
      "Page 7000 is done\n"
     ]
    }
   ],
   "source": [
    "#scraping the all link of all questions\n",
    "data_link = pd.DataFrame(columns=['link']) #creating dataframe for all data\n",
    "for i in range(7000,7208): #iterating through every 1000 page\n",
    "    purl = 'https://savollar.islom.uz/savollar?page='+str(i+1) #creating url for every page\n",
    "    response = requests.get(purl) # get the response from the website\n",
    "    data = response.text # get the text from the response\n",
    "    soup = BeautifulSoup(data, 'html.parser') # parse the data using BeautifulSoup\n",
    "    questions = soup.find_all(\"div\", {\"class\": \"question\"}) # find all the questions\n",
    "    for question in questions: # iterate through the questions\n",
    "        data_link = data_link.append({\"link\": 'https://savollar.islom.uz' + question.find(\"a\")[\"href\"]}, ignore_index=True) # append the question and the link to the dataframe\n",
    "\n",
    "    #printing the progress every 100 page\n",
    "    if (i+1)%100 == 0:\n",
    "        print('Page '+str(i+1)+' is done')\n",
    "    \n",
    "    #sleeping for 1 minute after every 100 page\n",
    "    if (i+1)%100 == 0:\n",
    "        time.sleep(60)\n",
    "    \n",
    "#saving the dataframe to csv file    \n",
    "data_link.to_csv('data_link7208.csv', index=False)"
   ]
  },
  {
   "cell_type": "code",
   "execution_count": 14,
   "metadata": {},
   "outputs": [
    {
     "data": {
      "text/html": [
       "<div>\n",
       "<style scoped>\n",
       "    .dataframe tbody tr th:only-of-type {\n",
       "        vertical-align: middle;\n",
       "    }\n",
       "\n",
       "    .dataframe tbody tr th {\n",
       "        vertical-align: top;\n",
       "    }\n",
       "\n",
       "    .dataframe thead th {\n",
       "        text-align: right;\n",
       "    }\n",
       "</style>\n",
       "<table border=\"1\" class=\"dataframe\">\n",
       "  <thead>\n",
       "    <tr style=\"text-align: right;\">\n",
       "      <th></th>\n",
       "      <th>link</th>\n",
       "    </tr>\n",
       "  </thead>\n",
       "  <tbody>\n",
       "    <tr>\n",
       "      <th>0</th>\n",
       "      <td>https://savollar.islom.uz/s/7155</td>\n",
       "    </tr>\n",
       "    <tr>\n",
       "      <th>1</th>\n",
       "      <td>https://savollar.islom.uz/s/7156</td>\n",
       "    </tr>\n",
       "    <tr>\n",
       "      <th>2</th>\n",
       "      <td>https://savollar.islom.uz/s/7157</td>\n",
       "    </tr>\n",
       "    <tr>\n",
       "      <th>3</th>\n",
       "      <td>https://savollar.islom.uz/s/7158</td>\n",
       "    </tr>\n",
       "    <tr>\n",
       "      <th>4</th>\n",
       "      <td>https://savollar.islom.uz/s/7159</td>\n",
       "    </tr>\n",
       "    <tr>\n",
       "      <th>...</th>\n",
       "      <td>...</td>\n",
       "    </tr>\n",
       "    <tr>\n",
       "      <th>4995</th>\n",
       "      <td>https://savollar.islom.uz/s/2084</td>\n",
       "    </tr>\n",
       "    <tr>\n",
       "      <th>4996</th>\n",
       "      <td>https://savollar.islom.uz/s/2085</td>\n",
       "    </tr>\n",
       "    <tr>\n",
       "      <th>4997</th>\n",
       "      <td>https://savollar.islom.uz/s/2086</td>\n",
       "    </tr>\n",
       "    <tr>\n",
       "      <th>4998</th>\n",
       "      <td>https://savollar.islom.uz/s/2087</td>\n",
       "    </tr>\n",
       "    <tr>\n",
       "      <th>4999</th>\n",
       "      <td>https://savollar.islom.uz/s/2088</td>\n",
       "    </tr>\n",
       "  </tbody>\n",
       "</table>\n",
       "<p>5000 rows × 1 columns</p>\n",
       "</div>"
      ],
      "text/plain": [
       "                                  link\n",
       "0     https://savollar.islom.uz/s/7155\n",
       "1     https://savollar.islom.uz/s/7156\n",
       "2     https://savollar.islom.uz/s/7157\n",
       "3     https://savollar.islom.uz/s/7158\n",
       "4     https://savollar.islom.uz/s/7159\n",
       "...                                ...\n",
       "4995  https://savollar.islom.uz/s/2084\n",
       "4996  https://savollar.islom.uz/s/2085\n",
       "4997  https://savollar.islom.uz/s/2086\n",
       "4998  https://savollar.islom.uz/s/2087\n",
       "4999  https://savollar.islom.uz/s/2088\n",
       "\n",
       "[5000 rows x 1 columns]"
      ]
     },
     "execution_count": 14,
     "metadata": {},
     "output_type": "execute_result"
    }
   ],
   "source": [
    "data_link"
   ]
  }
 ],
 "metadata": {
  "kernelspec": {
   "display_name": ".env",
   "language": "python",
   "name": "python3"
  },
  "language_info": {
   "codemirror_mode": {
    "name": "ipython",
    "version": 3
   },
   "file_extension": ".py",
   "mimetype": "text/x-python",
   "name": "python",
   "nbconvert_exporter": "python",
   "pygments_lexer": "ipython3",
   "version": "3.10.6"
  },
  "orig_nbformat": 4,
  "vscode": {
   "interpreter": {
    "hash": "643a54b91ba4ded4a0b60be3ece33297fe402567d029f094133aca91c2b8a589"
   }
  }
 },
 "nbformat": 4,
 "nbformat_minor": 2
}
