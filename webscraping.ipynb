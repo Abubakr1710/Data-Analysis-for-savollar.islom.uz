{
 "cells": [
  {
   "attachments": {},
   "cell_type": "markdown",
   "metadata": {},
   "source": [
    "# <h1><center>WEB SCRAPING</center></h1>"
   ]
  },
  {
   "attachments": {},
   "cell_type": "markdown",
   "metadata": {},
   "source": [
    "<h3><center>website: <a href=\"https://savollar.islom.uz/\">savollar.islom.uz</a></center></h3>"
   ]
  },
  {
   "cell_type": "code",
   "execution_count": 22,
   "metadata": {},
   "outputs": [],
   "source": [
    "#importing libraries for scraping\n",
    "from bs4 import BeautifulSoup #library to parse HTML and XML documents\n",
    "import requests #library to handle requests\n",
    "import pandas as pd #library for working with dataframes\n",
    "import warnings #library to ignore warnings\n",
    "warnings.simplefilter(action='ignore', category=FutureWarning) #ignoring warnings\n",
    "import time #library to handle time\n"
   ]
  },
  {
   "cell_type": "code",
   "execution_count": 23,
   "metadata": {},
   "outputs": [
    {
     "data": {
      "text/plain": [
       "200"
      ]
     },
     "execution_count": 23,
     "metadata": {},
     "output_type": "execute_result"
    }
   ],
   "source": [
    "url = \"https://savollar.islom.uz/\" # url of the website\n",
    "response = requests.get(url) # get the response from the website\n",
    "response.status_code # check the status code of the response --> 200 means OK"
   ]
  },
  {
   "attachments": {},
   "cell_type": "markdown",
   "metadata": {},
   "source": [
    "<h3><center>Scraping the data</center></h3>"
   ]
  },
  {
   "attachments": {},
   "cell_type": "markdown",
   "metadata": {},
   "source": [
    "<h4>Dataset will contain four columns: section, views, date, link</h4>"
   ]
  },
  {
   "cell_type": "code",
   "execution_count": null,
   "metadata": {},
   "outputs": [],
   "source": [
    "#scraping the all link of all questions\n",
    "data_link = pd.DataFrame(columns=['link']) #creating dataframe for all data\n",
    "for i in range(7000,7208): #iterating through every 1000 page\n",
    "    purl = 'https://savollar.islom.uz/savollar?page='+str(i+1) #creating url for every page\n",
    "    response = requests.get(purl) # get the response from the website\n",
    "    data = response.text # get the text from the response\n",
    "    soup = BeautifulSoup(data, 'html.parser') # parse the data using BeautifulSoup\n",
    "    questions = soup.find_all(\"div\", {\"class\": \"question\"}) # find all the questions\n",
    "    for question in questions: # iterate through the questions\n",
    "        data_link = data_link.append({\"link\": 'https://savollar.islom.uz' + question.find(\"a\")[\"href\"]}, ignore_index=True) # append the question and the link to the dataframe\n",
    "\n",
    "    #printing the progress every 100 page\n",
    "    if (i+1)%100 == 0:\n",
    "        print('Page '+str(i+1)+' is done')\n",
    "    \n",
    "    #sleeping for 1 minute after every 100 page\n",
    "    if (i+1)%100 == 0:\n",
    "        time.sleep(60)\n",
    "    \n",
    "#saving the dataframe to csv file    \n",
    "data_link.to_csv('data_link7208.csv', index=False)"
   ]
  },
  {
   "cell_type": "code",
   "execution_count": null,
   "metadata": {},
   "outputs": [],
   "source": [
    "data_link"
   ]
  },
  {
   "cell_type": "code",
   "execution_count": 24,
   "metadata": {},
   "outputs": [],
   "source": [
    "# reading the csv file\n",
    "df1 = pd.read_csv('data_link1000.csv')\n",
    "df2 = pd.read_csv('data_link2000.csv')\n",
    "df3 = pd.read_csv('data_link3000.csv')\n",
    "df4 = pd.read_csv('data_link4000.csv')\n",
    "df5 = pd.read_csv('data_link5000.csv')\n",
    "df6 = pd.read_csv('data_link6000.csv')\n",
    "df65 = pd.read_csv('data_link6500.csv')\n",
    "df7 = pd.read_csv('data_link7000.csv')\n",
    "df8 = pd.read_csv('data_link7208.csv')"
   ]
  },
  {
   "cell_type": "code",
   "execution_count": 25,
   "metadata": {},
   "outputs": [],
   "source": [
    "#merging all the dataframes\n",
    "full_data_link = pd.concat([df1, df2, df3, df4, df5, df6, df65, df7, df8], ignore_index=True)\n",
    "#saving the dataframe to csv file\n",
    "full_data_link.to_csv('full_data_link.csv', index=False)\n"
   ]
  },
  {
   "cell_type": "code",
   "execution_count": 26,
   "metadata": {},
   "outputs": [
    {
     "data": {
      "text/html": [
       "<div>\n",
       "<style scoped>\n",
       "    .dataframe tbody tr th:only-of-type {\n",
       "        vertical-align: middle;\n",
       "    }\n",
       "\n",
       "    .dataframe tbody tr th {\n",
       "        vertical-align: top;\n",
       "    }\n",
       "\n",
       "    .dataframe thead th {\n",
       "        text-align: right;\n",
       "    }\n",
       "</style>\n",
       "<table border=\"1\" class=\"dataframe\">\n",
       "  <thead>\n",
       "    <tr style=\"text-align: right;\">\n",
       "      <th></th>\n",
       "      <th>link</th>\n",
       "    </tr>\n",
       "  </thead>\n",
       "  <tbody>\n",
       "    <tr>\n",
       "      <th>count</th>\n",
       "      <td>72044</td>\n",
       "    </tr>\n",
       "    <tr>\n",
       "      <th>unique</th>\n",
       "      <td>72044</td>\n",
       "    </tr>\n",
       "    <tr>\n",
       "      <th>top</th>\n",
       "      <td>https://savollar.islom.uz/s/234694</td>\n",
       "    </tr>\n",
       "    <tr>\n",
       "      <th>freq</th>\n",
       "      <td>1</td>\n",
       "    </tr>\n",
       "  </tbody>\n",
       "</table>\n",
       "</div>"
      ],
      "text/plain": [
       "                                      link\n",
       "count                                72044\n",
       "unique                               72044\n",
       "top     https://savollar.islom.uz/s/234694\n",
       "freq                                     1"
      ]
     },
     "execution_count": 26,
     "metadata": {},
     "output_type": "execute_result"
    }
   ],
   "source": [
    "full_data_link.describe()"
   ]
  }
 ],
 "metadata": {
  "kernelspec": {
   "display_name": ".env",
   "language": "python",
   "name": "python3"
  },
  "language_info": {
   "codemirror_mode": {
    "name": "ipython",
    "version": 3
   },
   "file_extension": ".py",
   "mimetype": "text/x-python",
   "name": "python",
   "nbconvert_exporter": "python",
   "pygments_lexer": "ipython3",
   "version": "3.10.6"
  },
  "orig_nbformat": 4,
  "vscode": {
   "interpreter": {
    "hash": "643a54b91ba4ded4a0b60be3ece33297fe402567d029f094133aca91c2b8a589"
   }
  }
 },
 "nbformat": 4,
 "nbformat_minor": 2
}
