{
 "cells": [
  {
   "attachments": {},
   "cell_type": "markdown",
   "metadata": {},
   "source": [
    "# <center>**Scraping the all information every the question**</center>"
   ]
  },
  {
   "cell_type": "code",
   "execution_count": 1,
   "metadata": {},
   "outputs": [],
   "source": [
    "#importing libraries\n",
    "import requests #to get the html page\n",
    "from bs4 import BeautifulSoup #to parse the html page\n",
    "import pandas as pd #to work on the data\n",
    "import warnings #library to ignore warnings\n",
    "warnings.simplefilter(action='ignore', category=FutureWarning) #ignoring warnings\n",
    "import time #library to handle time"
   ]
  }
 ],
 "metadata": {
  "kernelspec": {
   "display_name": ".env",
   "language": "python",
   "name": "python3"
  },
  "language_info": {
   "codemirror_mode": {
    "name": "ipython",
    "version": 3
   },
   "file_extension": ".py",
   "mimetype": "text/x-python",
   "name": "python",
   "nbconvert_exporter": "python",
   "pygments_lexer": "ipython3",
   "version": "3.10.6"
  },
  "orig_nbformat": 4,
  "vscode": {
   "interpreter": {
    "hash": "643a54b91ba4ded4a0b60be3ece33297fe402567d029f094133aca91c2b8a589"
   }
  }
 },
 "nbformat": 4,
 "nbformat_minor": 2
}
