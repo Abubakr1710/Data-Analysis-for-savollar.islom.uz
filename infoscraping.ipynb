{
 "cells": [
  {
   "attachments": {},
   "cell_type": "markdown",
   "metadata": {},
   "source": [
    "# <center>**Scraping the all information every the question**</center>"
   ]
  },
  {
   "cell_type": "code",
   "execution_count": 1,
   "metadata": {},
   "outputs": [],
   "source": [
    "#importing libraries\n",
    "import requests #to get the html page\n",
    "from bs4 import BeautifulSoup #to parse the html page\n",
    "import pandas as pd #to work on the data\n",
    "import warnings #library to ignore warnings\n",
    "warnings.simplefilter(action='ignore', category=FutureWarning) #ignoring warnings\n",
    "import time #library to handle time"
   ]
  },
  {
   "cell_type": "code",
   "execution_count": 2,
   "metadata": {},
   "outputs": [
    {
     "data": {
      "text/html": [
       "<div>\n",
       "<style scoped>\n",
       "    .dataframe tbody tr th:only-of-type {\n",
       "        vertical-align: middle;\n",
       "    }\n",
       "\n",
       "    .dataframe tbody tr th {\n",
       "        vertical-align: top;\n",
       "    }\n",
       "\n",
       "    .dataframe thead th {\n",
       "        text-align: right;\n",
       "    }\n",
       "</style>\n",
       "<table border=\"1\" class=\"dataframe\">\n",
       "  <thead>\n",
       "    <tr style=\"text-align: right;\">\n",
       "      <th></th>\n",
       "      <th>link</th>\n",
       "    </tr>\n",
       "  </thead>\n",
       "  <tbody>\n",
       "    <tr>\n",
       "      <th>0</th>\n",
       "      <td>https://savollar.islom.uz/s/234694</td>\n",
       "    </tr>\n",
       "    <tr>\n",
       "      <th>1</th>\n",
       "      <td>https://savollar.islom.uz/s/234702</td>\n",
       "    </tr>\n",
       "    <tr>\n",
       "      <th>2</th>\n",
       "      <td>https://savollar.islom.uz/s/234707</td>\n",
       "    </tr>\n",
       "    <tr>\n",
       "      <th>3</th>\n",
       "      <td>https://savollar.islom.uz/s/234709</td>\n",
       "    </tr>\n",
       "    <tr>\n",
       "      <th>4</th>\n",
       "      <td>https://savollar.islom.uz/s/234713</td>\n",
       "    </tr>\n",
       "  </tbody>\n",
       "</table>\n",
       "</div>"
      ],
      "text/plain": [
       "                                 link\n",
       "0  https://savollar.islom.uz/s/234694\n",
       "1  https://savollar.islom.uz/s/234702\n",
       "2  https://savollar.islom.uz/s/234707\n",
       "3  https://savollar.islom.uz/s/234709\n",
       "4  https://savollar.islom.uz/s/234713"
      ]
     },
     "execution_count": 2,
     "metadata": {},
     "output_type": "execute_result"
    }
   ],
   "source": [
    "link_data = pd.read_csv('data_link/full_data_link.csv') #reading the csv file\n",
    "link_data.head() #displaying the first 5 rows of the data"
   ]
  },
  {
   "cell_type": "code",
   "execution_count": 5,
   "metadata": {},
   "outputs": [
    {
     "name": "stdout",
     "output_type": "stream",
     "text": [
      "<class 'pandas.core.frame.DataFrame'>\n",
      "RangeIndex: 72044 entries, 0 to 72043\n",
      "Data columns (total 1 columns):\n",
      " #   Column  Non-Null Count  Dtype \n",
      "---  ------  --------------  ----- \n",
      " 0   link    72044 non-null  object\n",
      "dtypes: object(1)\n",
      "memory usage: 563.0+ KB\n"
     ]
    }
   ],
   "source": [
    "link_data.info() #displaying the information of the data"
   ]
  },
  {
   "cell_type": "code",
   "execution_count": 18,
   "metadata": {},
   "outputs": [
    {
     "name": "stdout",
     "output_type": "stream",
     "text": [
      "Section: Молия ва тижорат\n",
      "Full views: \n",
      "            \n",
      "            12:27 / 04 февраль | Nurjahon | 3818         \n",
      "                \n",
      "                                                           \n",
      "Views: 3818\n",
      "Link: https://savollar.islom.uz/s/234694\n"
     ]
    }
   ],
   "source": [
    "url = 'https://savollar.islom.uz/s/234694'\n",
    "page = requests.get(url)\n",
    "soup = BeautifulSoup(page.content, 'html.parser')\n",
    "all_info = soup.find('div', {'class': 'info_question'})\n",
    "all_info = soup.find_all('div', {'class': 'in_question'}) # find all the information\n",
    "for info in all_info: # iterate through the information\n",
    "    section_info = info.find('ol', {'class': 'breadcrumb'}).text # find the section information\n",
    "    section_info = section_info.split('\\n') # split the section information\n",
    "    print('Section: ' + section_info[2]) # print the section information\n",
    "    views_info = info.find('div', {'class': 'info_quesiton'}).text # find the views information\n",
    "    print('Full views: ' + views_info) # print the full views\n",
    "    views_info = views_info.split() # split the views information\n",
    "    print('Views: ' + views_info[-1]) # print the question\n",
    "    print('Link: ' + url) # print the link\n",
    "\n"
   ]
  }
 ],
 "metadata": {
  "kernelspec": {
   "display_name": ".env",
   "language": "python",
   "name": "python3"
  },
  "language_info": {
   "codemirror_mode": {
    "name": "ipython",
    "version": 3
   },
   "file_extension": ".py",
   "mimetype": "text/x-python",
   "name": "python",
   "nbconvert_exporter": "python",
   "pygments_lexer": "ipython3",
   "version": "3.10.6"
  },
  "orig_nbformat": 4,
  "vscode": {
   "interpreter": {
    "hash": "643a54b91ba4ded4a0b60be3ece33297fe402567d029f094133aca91c2b8a589"
   }
  }
 },
 "nbformat": 4,
 "nbformat_minor": 2
}
