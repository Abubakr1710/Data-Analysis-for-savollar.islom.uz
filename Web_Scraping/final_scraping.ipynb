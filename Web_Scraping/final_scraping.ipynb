{
 "cells": [
  {
   "attachments": {},
   "cell_type": "markdown",
   "metadata": {},
   "source": [
    "# <center>**Scraping the all information every the question**</center>"
   ]
  },
  {
   "attachments": {},
   "cell_type": "markdown",
   "metadata": {},
   "source": [
    "<h3><center>website: <a href=\"https://savollar.islom.uz/\">savollar.islom.uz</a></center></h3>"
   ]
  },
  {
   "attachments": {},
   "cell_type": "markdown",
   "metadata": {},
   "source": [
    "#### This file is the last file for webscraping part."
   ]
  },
  {
   "cell_type": "code",
   "execution_count": 1,
   "metadata": {},
   "outputs": [],
   "source": [
    "#importing libraries\n",
    "import requests #to get the html page\n",
    "from bs4 import BeautifulSoup #to parse the html page\n",
    "import pandas as pd #to work on the data\n",
    "import warnings #library to ignore warnings\n",
    "warnings.simplefilter(action='ignore', category=FutureWarning) #ignoring warnings"
   ]
  },
  {
   "cell_type": "code",
   "execution_count": 2,
   "metadata": {},
   "outputs": [
    {
     "name": "stdout",
     "output_type": "stream",
     "text": [
      "<class 'pandas.core.frame.DataFrame'>\n",
      "RangeIndex: 10000 entries, 0 to 9999\n",
      "Data columns (total 1 columns):\n",
      " #   Column  Non-Null Count  Dtype \n",
      "---  ------  --------------  ----- \n",
      " 0   link    10000 non-null  object\n",
      "dtypes: object(1)\n",
      "memory usage: 78.2+ KB\n"
     ]
    }
   ],
   "source": [
    "data = pd.read_csv('data_link/data_link1000.csv') #reading the csv file\n",
    "data.info() #displaying the information of the data"
   ]
  },
  {
   "cell_type": "code",
   "execution_count": 3,
   "metadata": {},
   "outputs": [
    {
     "data": {
      "text/plain": [
       "10000"
      ]
     },
     "execution_count": 3,
     "metadata": {},
     "output_type": "execute_result"
    }
   ],
   "source": [
    "len(data) #displaying the length of the data"
   ]
  },
  {
   "cell_type": "code",
   "execution_count": 13,
   "metadata": {},
   "outputs": [
    {
     "name": "stdout",
     "output_type": "stream",
     "text": [
      "<class 'pandas.core.frame.DataFrame'>\n",
      "RangeIndex: 500 entries, 0 to 499\n",
      "Data columns (total 1 columns):\n",
      " #   Column  Non-Null Count  Dtype \n",
      "---  ------  --------------  ----- \n",
      " 0   link    500 non-null    object\n",
      "dtypes: object(1)\n",
      "memory usage: 4.0+ KB\n"
     ]
    }
   ],
   "source": [
    "#length of the dataset is large so, we need to split the data into two\n",
    "#first 500 rows\n",
    "data1 = data.iloc[:500, :]\n",
    "data1.info()"
   ]
  },
  {
   "cell_type": "code",
   "execution_count": 14,
   "metadata": {},
   "outputs": [
    {
     "name": "stdout",
     "output_type": "stream",
     "text": [
      "<class 'pandas.core.frame.DataFrame'>\n",
      "RangeIndex: 9500 entries, 500 to 9999\n",
      "Data columns (total 1 columns):\n",
      " #   Column  Non-Null Count  Dtype \n",
      "---  ------  --------------  ----- \n",
      " 0   link    9500 non-null   object\n",
      "dtypes: object(1)\n",
      "memory usage: 74.3+ KB\n"
     ]
    }
   ],
   "source": [
    "#second 500 rows\n",
    "data2 = data.iloc[500:, :]\n",
    "data2.info()"
   ]
  },
  {
   "cell_type": "code",
   "execution_count": null,
   "metadata": {},
   "outputs": [],
   "source": [
    "last_data = pd.DataFrame(columns=['section','date','views','link']) #creating an empty dataframe\n",
    "for i in data['link']: #iterate through the links\n",
    "    page = requests.get(i)  # get the html page\n",
    "    soup = BeautifulSoup(page.content, 'html.parser')   # parse the html page\n",
    "    all_info = soup.find('div', {'class': 'info_question'}) # find the information\n",
    "    all_info = soup.find_all('div', {'class': 'in_question'}) # find all the information\n",
    "    for info in all_info: # iterate through the information\n",
    "        section_info = info.find('ol', {'class': 'breadcrumb'}).text # find the section information\n",
    "        section_info = section_info.split('\\n') # split the section information\n",
    "        v_info = info.find('div', {'class': 'info_quesiton'}).text # find the views information\n",
    "        v_info = v_info.split('|') #splitting the views information\n",
    "        date_info = v_info[0] # get the date information\n",
    "        date_info = date_info.split('/') #splitting the date information\n",
    "        date_info = date_info[1] # get the date information\n",
    "        views_info = v_info[2] # get the views information\n",
    "        last_data = last_data.append({'section': section_info[2], 'date': date_info, 'views': views_info, 'link': i}, ignore_index=True) #appending the data to the dataframe\n",
    "        \n",
    "#saving the data in the csv file\n",
    "last_data.to_csv('final_data/last_data1000.csv', index=False)    "
   ]
  },
  {
   "attachments": {},
   "cell_type": "markdown",
   "metadata": {},
   "source": [
    "### Estimated time to scrape 1000 page will take about 360-400 minutes, by splitting data into small parts. we can finish it working as a group"
   ]
  }
 ],
 "metadata": {
  "kernelspec": {
   "display_name": ".env",
   "language": "python",
   "name": "python3"
  },
  "language_info": {
   "codemirror_mode": {
    "name": "ipython",
    "version": 3
   },
   "file_extension": ".py",
   "mimetype": "text/x-python",
   "name": "python",
   "nbconvert_exporter": "python",
   "pygments_lexer": "ipython3",
   "version": "3.8.10"
  },
  "orig_nbformat": 4,
  "vscode": {
   "interpreter": {
    "hash": "643a54b91ba4ded4a0b60be3ece33297fe402567d029f094133aca91c2b8a589"
   }
  }
 },
 "nbformat": 4,
 "nbformat_minor": 2
}
