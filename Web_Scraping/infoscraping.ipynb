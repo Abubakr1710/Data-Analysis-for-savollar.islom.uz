{
 "cells": [
  {
   "attachments": {},
   "cell_type": "markdown",
   "metadata": {},
   "source": [
    "# <center>**Scraping the all information every the question**</center>"
   ]
  },
  {
   "attachments": {},
   "cell_type": "markdown",
   "metadata": {},
   "source": [
    "<h3><center>website: <a href=\"https://savollar.islom.uz/\">savollar.islom.uz</a></center></h3>"
   ]
  },
  {
   "attachments": {},
   "cell_type": "markdown",
   "metadata": {},
   "source": [
    "### Columns: Section, date, views, link"
   ]
  },
  {
   "cell_type": "code",
   "execution_count": null,
   "metadata": {},
   "outputs": [],
   "source": [
    "#importing libraries\n",
    "import requests #to get the html page\n",
    "from bs4 import BeautifulSoup #to parse the html page\n",
    "import pandas as pd #to work on the data\n",
    "import warnings #library to ignore warnings\n",
    "warnings.simplefilter(action='ignore', category=FutureWarning) #ignoring warnings\n",
    "import time #library to handle time"
   ]
  },
  {
   "cell_type": "code",
   "execution_count": null,
   "metadata": {},
   "outputs": [],
   "source": [
    "link_data = pd.read_csv('data_link/full_data_link.csv') #reading the csv file\n",
    "link_data.head() #displaying the first 5 rows of the data"
   ]
  },
  {
   "cell_type": "code",
   "execution_count": null,
   "metadata": {},
   "outputs": [],
   "source": [
    "link_data.info() #displaying the information of the data"
   ]
  },
  {
   "cell_type": "code",
   "execution_count": null,
   "metadata": {},
   "outputs": [],
   "source": [
    "url = 'https://savollar.islom.uz/s/234694'\n",
    "page = requests.get(url)\n",
    "soup = BeautifulSoup(page.content, 'html.parser')\n",
    "all_info = soup.find('div', {'class': 'info_question'})\n",
    "all_info = soup.find_all('div', {'class': 'in_question'}) # find all the information\n",
    "for info in all_info: # iterate through the information\n",
    "    section_info = info.find('ol', {'class': 'breadcrumb'}).text # find the section information\n",
    "    section_info = section_info.split('\\n') # split the section information\n",
    "    print('Section: ' + section_info[2]) # print the section information\n",
    "    v_info = info.find('div', {'class': 'info_quesiton'}).text # find the views information\n",
    "    #splitting the views information\n",
    "    v_info = v_info.split('|')\n",
    "    date_info = v_info[0] # get the date information\n",
    "    #splitting the date information\n",
    "    date_info = date_info.split('/')\n",
    "    date_info = date_info[1]\n",
    "    views_info = v_info[2] # get the views information\n",
    "    print('Date: ' + date_info) # print the date information\n",
    "    print('Views: ' + views_info) # print the views information\n",
    "    print('Link: ' + url) # print the link\n",
    "\n"
   ]
  },
  {
   "attachments": {},
   "cell_type": "markdown",
   "metadata": {},
   "source": [
    "## Now we are able to scrape the data from website"
   ]
  },
  {
   "attachments": {},
   "cell_type": "markdown",
   "metadata": {},
   "source": [
    "### Links: \n",
    "##### data_link/data_link1000.csv\n",
    "##### data_link/data_link2000.csv\n",
    "##### data_link/data_link3000.csv\n",
    "##### data_link/data_link4000.csv\n",
    "##### data_link/data_link5000.csv\n",
    "##### data_link/data_link6000.csv\n",
    "##### data_link/data_link6500.csv\n",
    "##### data_link/data_link7000.csv\n",
    "##### data_link/data_link7208.csv\n"
   ]
  },
  {
   "cell_type": "code",
   "execution_count": null,
   "metadata": {},
   "outputs": [],
   "source": [
    "data = pd.read_csv('data_link/data_link1000.csv') #reading the csv file\n",
    "data.info() #displaying the information of the data"
   ]
  },
  {
   "cell_type": "code",
   "execution_count": null,
   "metadata": {},
   "outputs": [],
   "source": [
    "last_data = pd.DataFrame(columns=['section','date','views','link']) #creating an empty dataframe\n",
    "for i in data['link']: #iterate through the links\n",
    "    page = requests.get(i)  # get the html page\n",
    "    soup = BeautifulSoup(page.content, 'html.parser')   # parse the html page\n",
    "    all_info = soup.find('div', {'class': 'info_question'}) # find the information\n",
    "    all_info = soup.find_all('div', {'class': 'in_question'}) # find all the information\n",
    "    for info in all_info: # iterate through the information\n",
    "        section_info = info.find('ol', {'class': 'breadcrumb'}).text # find the section information\n",
    "        section_info = section_info.split('\\n') # split the section information\n",
    "        v_info = info.find('div', {'class': 'info_quesiton'}).text # find the views information\n",
    "        v_info = v_info.split('|') #splitting the views information\n",
    "        date_info = v_info[0] # get the date information\n",
    "        date_info = date_info.split('/') #splitting the date information\n",
    "        date_info = date_info[1] # get the date information\n",
    "        views_info = v_info[2] # get the views information\n",
    "        last_data = last_data.append({'section': section_info[2], 'date': date_info, 'views': views_info, 'link': i}, ignore_index=True) #appending the data to the dataframe\n",
    "        \n",
    "#saving the data in the csv file\n",
    "last_data.to_csv('final_data/last_data.csv', index=False)    "
   ]
  }
 ],
 "metadata": {
  "kernelspec": {
   "display_name": ".env",
   "language": "python",
   "name": "python3"
  },
  "language_info": {
   "codemirror_mode": {
    "name": "ipython",
    "version": 3
   },
   "file_extension": ".py",
   "mimetype": "text/x-python",
   "name": "python",
   "nbconvert_exporter": "python",
   "pygments_lexer": "ipython3",
   "version": "3.10.6"
  },
  "orig_nbformat": 4,
  "vscode": {
   "interpreter": {
    "hash": "643a54b91ba4ded4a0b60be3ece33297fe402567d029f094133aca91c2b8a589"
   }
  }
 },
 "nbformat": 4,
 "nbformat_minor": 2
}
