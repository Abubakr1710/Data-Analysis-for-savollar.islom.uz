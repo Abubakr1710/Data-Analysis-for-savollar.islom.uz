{
 "cells": [
  {
   "attachments": {},
   "cell_type": "markdown",
   "metadata": {},
   "source": [
    "# <h1><center>WEB SCRAPING</center></h1>"
   ]
  },
  {
   "attachments": {},
   "cell_type": "markdown",
   "metadata": {},
   "source": [
    "<h3><center>website: <a href=\"https://savollar.islom.uz/\">savollar.islom.uz</a></center></h3>"
   ]
  },
  {
   "cell_type": "code",
   "execution_count": 1,
   "metadata": {},
   "outputs": [],
   "source": [
    "#importing libraries for scraping\n",
    "from bs4 import BeautifulSoup #library to parse HTML and XML documents\n",
    "import requests #library to handle requests\n",
    "import pandas as pd #library for working with dataframes\n"
   ]
  },
  {
   "cell_type": "code",
   "execution_count": 2,
   "metadata": {},
   "outputs": [],
   "source": [
    "url = \"https://savollar.islom.uz/\" # url of the website"
   ]
  },
  {
   "cell_type": "code",
   "execution_count": 3,
   "metadata": {},
   "outputs": [
    {
     "data": {
      "text/plain": [
       "200"
      ]
     },
     "execution_count": 3,
     "metadata": {},
     "output_type": "execute_result"
    }
   ],
   "source": [
    "response = requests.get(url) # get the response from the website\n",
    "response.status_code # check the status code of the response --> 200 means OK"
   ]
  }
 ],
 "metadata": {
  "kernelspec": {
   "display_name": ".env",
   "language": "python",
   "name": "python3"
  },
  "language_info": {
   "codemirror_mode": {
    "name": "ipython",
    "version": 3
   },
   "file_extension": ".py",
   "mimetype": "text/x-python",
   "name": "python",
   "nbconvert_exporter": "python",
   "pygments_lexer": "ipython3",
   "version": "3.10.6"
  },
  "orig_nbformat": 4,
  "vscode": {
   "interpreter": {
    "hash": "643a54b91ba4ded4a0b60be3ece33297fe402567d029f094133aca91c2b8a589"
   }
  }
 },
 "nbformat": 4,
 "nbformat_minor": 2
}
